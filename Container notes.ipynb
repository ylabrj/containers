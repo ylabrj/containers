{
 "cells": [
  {
   "cell_type": "markdown",
   "metadata": {
    "slideshow": {
     "slide_type": "slide"
    }
   },
   "source": [
    "# Container architecture and fundamentals"
   ]
  },
  {
   "cell_type": "markdown",
   "metadata": {
    "slideshow": {
     "slide_type": "notes"
    }
   },
   "source": [
    "Great video tutorials to start with:\n",
    "\n",
    "[Quick podman install and load of Cave Adventure](https://www.youtube.com/watch?v=bJDI_QuXeCE)\n",
    "\n",
    "[Detailed architectural overview of containers and podman](https://www.youtube.com/watch?v=lc2rR_0Ie5g)\n",
    "* Go to 32:00\n",
    "\n",
    "Not reviewed yet: [Docker Networking](https://www.youtube.com/watch?v=cfzrLKvF5X0). Control and configuration of ports and sockets is are critical - particularly when the default is usually to lock everything down.\n",
    "\n",
    "\n",
    "\n"
   ]
  },
  {
   "cell_type": "markdown",
   "metadata": {
    "slideshow": {
     "slide_type": "slide"
    }
   },
   "source": [
    "# Basic Principles: Why containers? \n",
    "\n",
    "\n",
    "* How do I handle multiple copies of an application that may interfere with each other?\n",
    "    * Copies can interfere with each other (expect uniqueness)\n",
    "    * Good database: each copy has different access ports,directories. Copies (test, QA, production) exist on same system. Common when a Unix system cost minimum \\$50,000, *and that is after cost came down from \\$100K+*. Informix was probably the best.\n",
    "    * Bad database: all those parameters hard-coded.\n",
    "    * Multi-process software: how can I tell which instance of a process belongs to which instance of the full package?\n",
    "        "
   ]
  },
  {
   "cell_type": "markdown",
   "metadata": {
    "slideshow": {
     "slide_type": "subslide"
    }
   },
   "source": [
    " ### Basic principles - Management (cont.)   \n",
    "* Same as above - but for separate applications that can interfere with each other?\n",
    "* How can I massively expand the number of copies for performance?\n",
    "    * With the interference mentioned above?\n",
    "    * Without the interference mentioned above, but on multiple systems?\n",
    "    * Without the hassle of re-installing the software and operating system?\n",
    "* How do I handle application fail/restart?\n",
    "    "
   ]
  },
  {
   "cell_type": "markdown",
   "metadata": {
    "slideshow": {
     "slide_type": "subslide"
    }
   },
   "source": [
    "### Basic principles - Security   \n",
    "* I need these management tools on my VM. Does that increase the number of risk points?\n",
    "* If the software I'm running is hacked, what else on the system can the hack get at?\n",
    "    * Data?\n",
    "    * Software with greater permissions/access?\n",
    "    \n",
    "### Basic principles - Management\n",
    "* If I need a VM for each instance, isn't that a lot of overhead?\n",
    "    * Disk space: system, swap\n",
    "    * Dedicated RAM\n",
    "    * Management applications\n",
    "        \n",
    "        "
   ]
  },
  {
   "cell_type": "markdown",
   "metadata": {
    "slideshow": {
     "slide_type": "slide"
    }
   },
   "source": [
    "# Key requirements for containers\n",
    "\n",
    "## Isolation essentials\n",
    "1. How do I stop multiple apps (same app or different) from interfering with each other?\n",
    "    * They may want the same network ports\n",
    "        * Well-known port in /etc/services\n",
    "        * Not well known ports and inter-process communication between processes of the application\n",
    "    * They may want the same directory and files\n",
    "    * Their process stack management may interfere with each other\n",
    "    "
   ]
  },
  {
   "cell_type": "markdown",
   "metadata": {
    "slideshow": {
     "slide_type": "subslide"
    }
   },
   "source": [
    "## Key requirements (cont.): Isolation wish list\n",
    "1. How do I isolate an app from other apps?\n",
    "    * Because other apps may open vulnerabilities\n",
    "    * Because this app may open vulnerabilities to others\n",
    "1. Can I *really* restrict an app:\n",
    "    * To certain network interfaces and ports?\n",
    "    * Even down to *_system calls_*?\n",
    "    "
   ]
  },
  {
   "cell_type": "markdown",
   "metadata": {
    "slideshow": {
     "slide_type": "subslide"
    }
   },
   "source": [
    "## Key requirements (cont.)\n",
    "### Management essentials\n",
    "1. Can I spin up new copies quickly?\n",
    "1. Can I control the software component versions?\n",
    "\n",
    "### Management wish list\n",
    "1. Could I spin up copies on different platforms? x86? ARM?\n",
    "\n",
    "    \n",
    "    "
   ]
  },
  {
   "cell_type": "markdown",
   "metadata": {
    "slideshow": {
     "slide_type": "slide"
    }
   },
   "source": [
    "![Integers](integers.PNG)"
   ]
  },
  {
   "cell_type": "markdown",
   "metadata": {
    "slideshow": {
     "slide_type": "slide"
    }
   },
   "source": [
    "# The Integers: Basic Operating System Enhancements for Containers\n",
    "\n",
    "## Key principle: Linux namepaces\n",
    "\n",
    "Inspired by Bell Lab's Plan 9 operating system.\n",
    "\n",
    "[Wikipedia page](https://en.wikipedia.org/wiki/Linux_namespaces)\n",
    "Common within an operating system (Virtual machine or native):\n",
    "* Mount/directories\n",
    "* Process Ids\n",
    "* Network interfaces and ports\n",
    "* Interprocess communication\n",
    "* Host and domain names (UTS)\n",
    "* User IDs\n",
    "    "
   ]
  },
  {
   "cell_type": "markdown",
   "metadata": {
    "slideshow": {
     "slide_type": "slide"
    }
   },
   "source": [
    "    \n",
    "## Key development: cgroups (\"control groups\")\n",
    "[Wikipedia page](https://en.wikipedia.org/wiki/Cgroups)\n",
    "\n",
    "* Concept came from Bell Lab's Plan 9 operating system - built by designers of Unix!!!\n",
    "* Linux development and kernel modifications by Paul Menage and Rohit Seth at Google started in 2007\n",
    "* RHEL6.0 adopted it in 2010\n",
    "* V2 Redesign and rewrite by Tejun Heo first appeared in Linux Kernel 4.5 in 2016\n",
    "* Achieved all the namespace isolation objectives"
   ]
  },
  {
   "cell_type": "markdown",
   "metadata": {
    "slideshow": {
     "slide_type": "subslide"
    }
   },
   "source": [
    "### cgroups (cont)\n",
    "* Examples:\n",
    "    * Each cgroup starts with Pid 1\n",
    "        * Zombie processes inherited by cgroup's Pid 1\n",
    "        * Processes in cgroup only see processes in cgroup\n",
    "    * Out of memory? Kill entire cgroup, not just one process. Integrity maintained.\n",
    "    "
   ]
  },
  {
   "cell_type": "markdown",
   "metadata": {
    "slideshow": {
     "slide_type": "subslide"
    }
   },
   "source": [
    "  \n",
    "## ... and cgroups go farther\n",
    "* Memory and file cache limits\n",
    "* Share of CPU and disk I/O\n",
    "* Usage accounting\n",
    "* Freezing, checkpointing and restarting"
   ]
  },
  {
   "cell_type": "markdown",
   "metadata": {
    "slideshow": {
     "slide_type": "subslide"
    }
   },
   "source": [
    "## Operational usage\n",
    "OS can manage its processes in cgroups\n",
    "* system calls added to Linux: cgcreate, cgexec, cgclassify\n",
    "* system call to start process: clone() (vs fork() and exec() for standard process)\n",
    "\n",
    "\n",
    "# *And that's it for the Integers*"
   ]
  },
  {
   "cell_type": "markdown",
   "metadata": {
    "slideshow": {
     "slide_type": "slide"
    }
   },
   "source": [
    "# The Work of Man: Managing the cgroups\n",
    "\n",
    "* Software that initiates and manages process groups (i.e. running the system calls above\n",
    "* Docker, Podman, Pods of containers, Kubernetes (K8S), OpenShift, etc.\n",
    "\n"
   ]
  },
  {
   "cell_type": "markdown",
   "metadata": {
    "slideshow": {
     "slide_type": "slide"
    }
   },
   "source": [
    "![Copied from RedHat video](Container_objectives.PNG)"
   ]
  },
  {
   "cell_type": "markdown",
   "metadata": {
    "slideshow": {
     "slide_type": "slide"
    }
   },
   "source": [
    "### Guaranteed portability? *Really?*\n",
    "\n",
    "The OS dependencies (a disturbingly vague concept) are:\n",
    "* Libraries and other software for the application\n",
    "* Operating system resources - network, memory, file system, etc.\n",
    "* Objective can be defeated by lack of a library or other software component for the selected platform.\n",
    "* _*Manageability*_ can be limited by the environment and OS structure choices (Some issues for KVM and K8s)"
   ]
  },
  {
   "cell_type": "markdown",
   "metadata": {
    "slideshow": {
     "slide_type": "slide"
    }
   },
   "source": [
    "# Container concepts and terminology\n",
    "\n",
    "Ideally, The SMALLEST COMPUTE UNIT...*_to accomplish the task at hand_*\n",
    "* Not really very small if there are a ton of processes and libraries\n",
    "* But:\n",
    "    * you are eliminating all the operating system management and operational tools and processes _*if you had to set up a VM to run it*_\n",
    "    * You are eliminating all the possible security holes from other processes in the container\n",
    "    "
   ]
  },
  {
   "cell_type": "markdown",
   "metadata": {
    "slideshow": {
     "slide_type": "slide"
    }
   },
   "source": [
    "    \n",
    "## *But don't forget vulnerabilities from base OS packages*\n",
    "\n",
    "## Container IMAGE\n",
    "\n",
    "* The DEFINITION of the container\n",
    "    * Software and libraries required\n",
    "    * Those operating system resources we need (network, file system, etc)\n",
    "    * Matching versions and dependencies\n",
    "* With definition created, a tarball of all the components\n",
    "* Can include management tools if required\n",
    "* Available as a whole from repositories!"
   ]
  },
  {
   "cell_type": "markdown",
   "metadata": {
    "slideshow": {
     "slide_type": "slide"
    }
   },
   "source": [
    "## Image Registry\n",
    "* All the different container IMAGES and RELEASES\n",
    "* All the different container image VERSIONS FOR THE PLATFORMS YOU WANT TO RUN ON (Guaranteed portability? Hah!)\n",
    "* You can pull down from container registries on the web"
   ]
  },
  {
   "cell_type": "markdown",
   "metadata": {
    "slideshow": {
     "slide_type": "slide"
    }
   },
   "source": [
    "## CONTAINER: A running copy of the image\n",
    "* Yes, it has its own ephemeral copy of the software\n",
    "    * Reloaded from the image every time\n",
    "    * The anti-DK: you patch, you lose when container restarted\n",
    "    * DATA is not part of the image. It's a RESOURCE pointed to by the IMAGE\n",
    "        * cgroups NAMESPACE control maps actual data directory to expected location \n",
    "    * DATA DOES PERSIST when a container exits... but not when container is DELETED.\n",
    "* Runs within a cgroup\n",
    "\n",
    "    "
   ]
  },
  {
   "cell_type": "markdown",
   "metadata": {
    "slideshow": {
     "slide_type": "slide"
    }
   },
   "source": [
    "# INITIATORS (RJ's terminology) or Engine: Docker and Podman\n",
    "* Docker laid out the design for the definition file for all the requirements. Podman copied.\n",
    "* Remember those cgroups and the system calls to implement them?\n",
    "    * Docker and Podman provide the \"root\" process(es) that make the system calls to start the cgroup based on the definition file\n",
    "* Docker and Podman both use a runc initiator process\n",
    "* Docker creates a \"root\" process for each container\n",
    "* Podman does it with enhanced runc than doesn't require a per-container process"
   ]
  },
  {
   "cell_type": "markdown",
   "metadata": {
    "slideshow": {
     "slide_type": "slide"
    }
   },
   "source": [
    "### Initiators (cont)\n",
    "* Every program running in the container is a pure Linux process - but within the namespace and restrictions of the cgroup\n",
    "* Orchestration tools... K8s, OpenShift... are all regular processes.\n",
    "* *_All the real control is from the operating system_*\n",
    "    * The OS knows nothing about containers\n",
    "    * The OS implements the namespace through the cgroups controls to segregate processes and resource access\n",
    "* The container initiators use the OS calls and interfaces to create the management tools"
   ]
  },
  {
   "cell_type": "markdown",
   "metadata": {
    "slideshow": {
     "slide_type": "subslide"
    }
   },
   "source": [
    "![Container host](Container_host.PNG)\n",
    "\n",
    "### *And they have a lot of added management stuff*\n",
    "### The container configuration file (.yaml) can go on for pages"
   ]
  },
  {
   "cell_type": "markdown",
   "metadata": {
    "slideshow": {
     "slide_type": "slide"
    }
   },
   "source": [
    "# Open Container Initiative\n",
    "\n",
    "## The Docker standard\n",
    "\n",
    "Two specifications from Docker (a company), Red Hat and others in June 2015.\n",
    "1. Image format: how to create the IMAGE with all the info required\n",
    "2. How to unpack and run the IMAGE\n",
    "\n",
    "\n",
    "## Podman: daemon-less Docker\n",
    "\n",
    "* Removed per-container daemaon by adding required capabilities to runc\n",
    "* Added remote management via Varlink\n",
    "* Improved systemd integration and advanced namespace isolation\n"
   ]
  },
  {
   "cell_type": "markdown",
   "metadata": {
    "slideshow": {
     "slide_type": "slide"
    }
   },
   "source": [
    "# Ephemeral or not?\n",
    "\n",
    "![Ephemeral Definition](ephemeral_definition.PNG)\n",
    "\n",
    "### *The operating system facilities (cgroups, namespaces) have nothing to do with this*\n",
    "### *_It's all managed by the container initiators/managers_*\n",
    "\n",
    "\n"
   ]
  },
  {
   "cell_type": "markdown",
   "metadata": {
    "slideshow": {
     "slide_type": "slide"
    }
   },
   "source": [
    "![Persistence](persistence.jfif)"
   ]
  },
  {
   "cell_type": "markdown",
   "metadata": {
    "slideshow": {
     "slide_type": "slide"
    }
   },
   "source": [
    "# The container persistence puzzle\n",
    "\n",
    "Which is true?\n",
    "* \"All the data is destroyed when you restart a container\"\n",
    "* \"When you restart a container, you continue where you left off, with all the data\"\n",
    "* \"If you make changes to the code in a running container, it's lost when you restart\"\n",
    "* \"I made a change to the image, restarted the container, and still had the old code!\"\n",
    "\n",
    "Answer: _*It depends*_... ON THE MANAGEMENT! Container stop/start configuration, how the containers was stopped..."
   ]
  },
  {
   "cell_type": "markdown",
   "metadata": {
    "slideshow": {
     "slide_type": "slide"
    }
   },
   "source": [
    "# Key Persistence Concepts\n",
    "\n",
    "* Registry/Depository location and management\n",
    "* Container stop vs container delete\n",
    "* Container restart\n",
    "* IMAGE vs VOLUME: data *and* code"
   ]
  },
  {
   "cell_type": "markdown",
   "metadata": {
    "slideshow": {
     "slide_type": "slide"
    }
   },
   "source": [
    "### Key Persistence Concepts (cont.)\n",
    "* VOLUME vs WORKDIR\n",
    "* IMAGE and container instance\n",
    "* IMAGE and caching\n",
    "* IMAGE and config file (yaml) caching instructions\n",
    "* Clean up after yourself!"
   ]
  },
  {
   "cell_type": "markdown",
   "metadata": {
    "slideshow": {
     "slide_type": "slide"
    }
   },
   "source": [
    "## Be careful of answers and descriptions you find on-line *because the author may want or have tailored/managed the system for a specific behaviour*\n",
    "\n",
    "## Good reads:\n",
    "\n",
    "* [Clearing Docker Cache to Save Disk Space](https://mohitgoyal.co/2017/07/03/clear-docker-cache-to-save-disk-space/)\n",
    "* [Auto-restarting docker containers](https://stackoverflow.com/questions/29603504/how-to-restart-an-existing-docker-container-in-restart-always-mode)"
   ]
  },
  {
   "cell_type": "markdown",
   "metadata": {
    "slideshow": {
     "slide_type": "slide"
    }
   },
   "source": [
    "# Can we go further on security?\n",
    "\n",
    "* SELINUX\n",
    "* System calls to restrict system calls\n",
    "    * IBM pioneered this one\n",
    "    * Again, back to the Integers - requires base Linux feature\n",
    "    * \"Initiator\" process can get a list of which system calls to allow\n",
    "    * Default container settings have a very tight allowed set."
   ]
  },
  {
   "cell_type": "code",
   "execution_count": null,
   "metadata": {},
   "outputs": [],
   "source": []
  }
 ],
 "metadata": {
  "celltoolbar": "Slideshow",
  "kernelspec": {
   "display_name": "Python 3",
   "language": "python",
   "name": "python3"
  },
  "language_info": {
   "codemirror_mode": {
    "name": "ipython",
    "version": 3
   },
   "file_extension": ".py",
   "mimetype": "text/x-python",
   "name": "python",
   "nbconvert_exporter": "python",
   "pygments_lexer": "ipython3",
   "version": "3.7.7"
  }
 },
 "nbformat": 4,
 "nbformat_minor": 4
}
